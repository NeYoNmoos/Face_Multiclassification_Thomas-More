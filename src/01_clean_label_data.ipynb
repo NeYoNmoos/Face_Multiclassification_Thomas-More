{
 "cells": [
  {
   "cell_type": "markdown",
   "metadata": {},
   "source": [
    "# 01 Cleaning Label Data\n"
   ]
  },
  {
   "cell_type": "code",
   "execution_count": 26,
   "metadata": {},
   "outputs": [
    {
     "name": "stdout",
     "output_type": "stream",
     "text": [
      "   image     label_name\n",
      "0      1          Senne\n",
      "1      2  Youssef; Akif\n",
      "2      3          Seppe\n",
      "3      4  Youssef; Akif\n",
      "4      5        Michiel\n"
     ]
    }
   ],
   "source": [
    "import pandas as pd\n",
    "data = pd.read_csv('../data/labels/sample_submission.CSV', delimiter=\",\")\n",
    "\n",
    "print(data.head())"
   ]
  },
  {
   "cell_type": "code",
   "execution_count": 27,
   "metadata": {},
   "outputs": [
    {
     "name": "stdout",
     "output_type": "stream",
     "text": [
      "['', 'akif', 'alif', 'alper', 'alpre', 'asper', 'bart', 'daiane', 'floarian', 'florian', 'konrad', 'lasse', 'lesse', 'matthias', 'mattias', 'michiel', 'nelli', 'nille', 'nothing', 'raul', 'senne', 'seppe', 'youssef']\n"
     ]
    }
   ],
   "source": [
    "data['label_name'] = data['label_name'].str.lower()\n",
    "data['label_name'] = data['label_name'].str.split(';')\n",
    "\n",
    "data['label_name'] = data['label_name'].apply(lambda x: [name.strip() for name in x])\n",
    "\n",
    "all_names = data['label_name'].explode()\n",
    "\n",
    "unique_names = all_names.drop_duplicates().sort_values()\n",
    "\n",
    "print(unique_names.to_list())\n"
   ]
  },
  {
   "cell_type": "code",
   "execution_count": 28,
   "metadata": {},
   "outputs": [],
   "source": [
    "correction_matrix = {\n",
    "    \"akif \": \"akif\", \n",
    "    \"alif\": \"akif\", \n",
    "    \n",
    "    \"alper\": \"alper\", \n",
    "    \"alpre\": \"alper\", \n",
    "    \"asper\": \"alper\", \n",
    "    \n",
    "    \"bart\": \"bart\",\n",
    "    \n",
    "    \"daiane\": \"daiane\",\n",
    "    \n",
    "    \"floarian\": \"florian\",\n",
    "    \"floarian\": \"florian\",\n",
    "    \n",
    "    \"konrad\": \"konrad\",\n",
    "    \n",
    "    \"lasse\": \"lasse\",\n",
    "    \"lesse\": \"lasse\",\n",
    "    \n",
    "    \"matthias\": \"matthias\",\n",
    "    \"mattias\": \"matthias\",\n",
    "    \n",
    "    \"michiel\": \"michiel\",\n",
    "    \n",
    "    \"nelli\": \"nelli\",\n",
    "    \"nille\": \"nelli\",\n",
    "    \n",
    "    \"senne\": \"senne\",\n",
    "    \n",
    "    \"seppe\": \"seppe\",\n",
    "    \n",
    "    \"youssef\": \"youssef\",\n",
    "}"
   ]
  },
  {
   "cell_type": "code",
   "execution_count": null,
   "metadata": {},
   "outputs": [],
   "source": [
    "def correct_names(name_list):\n",
    "    return [correction_matrix.get(name, name) for name in name_list]\n",
    "\n",
    "data['label_name'] = data['label_name'].apply(correct_names)\n"
   ]
  },
  {
   "cell_type": "code",
   "execution_count": 30,
   "metadata": {},
   "outputs": [
    {
     "data": {
      "text/html": [
       "<div>\n",
       "<style scoped>\n",
       "    .dataframe tbody tr th:only-of-type {\n",
       "        vertical-align: middle;\n",
       "    }\n",
       "\n",
       "    .dataframe tbody tr th {\n",
       "        vertical-align: top;\n",
       "    }\n",
       "\n",
       "    .dataframe thead th {\n",
       "        text-align: right;\n",
       "    }\n",
       "</style>\n",
       "<table border=\"1\" class=\"dataframe\">\n",
       "  <thead>\n",
       "    <tr style=\"text-align: right;\">\n",
       "      <th></th>\n",
       "      <th>image</th>\n",
       "      <th>label_name</th>\n",
       "    </tr>\n",
       "  </thead>\n",
       "  <tbody>\n",
       "    <tr>\n",
       "      <th>0</th>\n",
       "      <td>1</td>\n",
       "      <td>[senne]</td>\n",
       "    </tr>\n",
       "    <tr>\n",
       "      <th>1</th>\n",
       "      <td>2</td>\n",
       "      <td>[youssef, akif]</td>\n",
       "    </tr>\n",
       "    <tr>\n",
       "      <th>2</th>\n",
       "      <td>3</td>\n",
       "      <td>[seppe]</td>\n",
       "    </tr>\n",
       "    <tr>\n",
       "      <th>3</th>\n",
       "      <td>4</td>\n",
       "      <td>[youssef, akif]</td>\n",
       "    </tr>\n",
       "    <tr>\n",
       "      <th>4</th>\n",
       "      <td>5</td>\n",
       "      <td>[michiel]</td>\n",
       "    </tr>\n",
       "  </tbody>\n",
       "</table>\n",
       "</div>"
      ],
      "text/plain": [
       "   image       label_name\n",
       "0      1          [senne]\n",
       "1      2  [youssef, akif]\n",
       "2      3          [seppe]\n",
       "3      4  [youssef, akif]\n",
       "4      5        [michiel]"
      ]
     },
     "execution_count": 30,
     "metadata": {},
     "output_type": "execute_result"
    }
   ],
   "source": [
    "data.head()"
   ]
  },
  {
   "cell_type": "code",
   "execution_count": null,
   "metadata": {},
   "outputs": [],
   "source": [
    "data.to_csv('../data/labels/clean_data.csv', index=False)"
   ]
  },
  {
   "cell_type": "code",
   "execution_count": null,
   "metadata": {},
   "outputs": [],
   "source": []
  }
 ],
 "metadata": {
  "kernelspec": {
   "display_name": "base",
   "language": "python",
   "name": "python3"
  },
  "language_info": {
   "codemirror_mode": {
    "name": "ipython",
    "version": 3
   },
   "file_extension": ".py",
   "mimetype": "text/x-python",
   "name": "python",
   "nbconvert_exporter": "python",
   "pygments_lexer": "ipython3",
   "version": "3.12.7"
  }
 },
 "nbformat": 4,
 "nbformat_minor": 2
}
