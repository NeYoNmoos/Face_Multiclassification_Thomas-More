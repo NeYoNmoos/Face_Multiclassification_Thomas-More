{
 "cells": [
  {
   "cell_type": "markdown",
   "metadata": {},
   "source": [
    "# Convert all files into consistent\n",
    "\n",
    "This notebook processes and cleans image and video data by:\n",
    "\n",
    "- Converting HEIC/HEIF images to JPEG.\n",
    "- Resizing images to a target size.\n",
    "- Extracting and saving frames from videos.\n",
    "- Organizing cleaned data into a specified folder. format"
   ]
  },
  {
   "cell_type": "code",
   "execution_count": null,
   "metadata": {},
   "outputs": [],
   "source": [
    "from PIL import Image\n",
    "from pillow_heif import register_heif_opener\n",
    "\n",
    "register_heif_opener()\n",
    "\n",
    "def convert_heic_to_jpg(heic_path, output_path):\n",
    "    img = Image.open(heic_path)\n",
    "    img = img.convert(\"RGB\")  \n",
    "    img.save(output_path, \"JPEG\")\n"
   ]
  },
  {
   "cell_type": "code",
   "execution_count": null,
   "metadata": {},
   "outputs": [],
   "source": [
    "import cv2\n",
    "import os\n",
    "\n",
    "def extract_frames(video_path, output_dir, frame_rate=1):\n",
    "    cap = cv2.VideoCapture(video_path)\n",
    "    if not cap.isOpened():\n",
    "        print(f\"Error opening video file: {video_path}\")\n",
    "        return\n",
    "\n",
    "    frame_idx = 0\n",
    "    while True:\n",
    "        success, frame = cap.read()\n",
    "        if not success:\n",
    "            break\n",
    "        if frame_idx % frame_rate == 0:  \n",
    "            output_path = os.path.join(output_dir, f\"frame_{frame_idx}.jpg\")\n",
    "            cv2.imwrite(output_path, frame)\n",
    "        frame_idx += 1\n",
    "    cap.release()\n"
   ]
  },
  {
   "cell_type": "code",
   "execution_count": null,
   "metadata": {},
   "outputs": [],
   "source": [
    "import os\n",
    "from PIL import Image\n",
    "from pillow_heif import register_heif_opener\n",
    "import cv2\n",
    "\n",
    "register_heif_opener()\n",
    "\n",
    "def process_files_in_folder(input_folder, output_folder, size=(224, 224)):\n",
    "    os.makedirs(output_folder, exist_ok=True)\n",
    "\n",
    "    for filename in os.listdir(input_folder):\n",
    "        input_path = os.path.join(input_folder, filename)\n",
    "        output_path = os.path.join(output_folder, os.path.splitext(filename)[0] + \".jpg\")\n",
    "\n",
    "        try:\n",
    "            if filename.lower().endswith((\".heic\", \".heif\")):\n",
    "                img = Image.open(input_path)\n",
    "                img = img.convert(\"RGB\")  \n",
    "                img = img.resize(size)  \n",
    "                img.save(output_path, \"JPEG\")\n",
    "\n",
    "            elif filename.lower().endswith((\".jpg\", \".jpeg\", \".png\")):\n",
    "                img = cv2.imread(input_path)\n",
    "                resized_img = cv2.resize(img, size)  \n",
    "                cv2.imwrite(output_path, resized_img)\n",
    "\n",
    "            elif filename.lower().endswith(\".mp4\"):\n",
    "                extract_first_frame_from_video(input_path, output_path, size)\n",
    "\n",
    "            else:\n",
    "                print(f\"Skipping unsupported file format: {filename}\")\n",
    "        except Exception as e:\n",
    "            print(f\"Error processing {filename}: {e}\")\n",
    "\n",
    "def extract_first_frame_from_video(video_path, output_path, size=(224, 224)):\n",
    "    cap = cv2.VideoCapture(video_path)\n",
    "    if not cap.isOpened():\n",
    "        print(f\"Error opening video file: {video_path}\")\n",
    "        return\n",
    "\n",
    "    success, frame = cap.read()\n",
    "    if success:\n",
    "        resized_frame = cv2.resize(frame, size)  \n",
    "        cv2.imwrite(output_path, resized_frame) \n",
    "    else:\n",
    "        print(f\"Failed to read the first frame of video: {video_path}\")\n",
    "\n",
    "    cap.release()\n"
   ]
  },
  {
   "cell_type": "code",
   "execution_count": null,
   "metadata": {},
   "outputs": [],
   "source": [
    "input_folder = \"../data/images/original_images\"  \n",
    "output_folder = \"../data/images/cleaned_images\"\n",
    "process_files_in_folder(input_folder, output_folder, size=(640, 480))\n"
   ]
  },
  {
   "cell_type": "code",
   "execution_count": 6,
   "metadata": {},
   "outputs": [],
   "source": [
    "input_folder = \"../data/images/test_images/testset\"  \n",
    "output_folder = \"../data/images/test_images/cleaned_images\"\n",
    "process_files_in_folder(input_folder, output_folder, size=(640, 480))\n"
   ]
  },
  {
   "cell_type": "code",
   "execution_count": 5,
   "metadata": {},
   "outputs": [
    {
     "name": "stderr",
     "output_type": "stream",
     "text": [
      "Invalid SOS parameters for sequential JPEG\n"
     ]
    }
   ],
   "source": [
    "input_folder = \"../data/olda_data/images\"  \n",
    "output_folder = \"../data/olda_data/cleaned_images\"\n",
    "process_files_in_folder(input_folder, output_folder, size=(640, 480))\n"
   ]
  }
 ],
 "metadata": {
  "kernelspec": {
   "display_name": ".venv",
   "language": "python",
   "name": "python3"
  },
  "language_info": {
   "codemirror_mode": {
    "name": "ipython",
    "version": 3
   },
   "file_extension": ".py",
   "mimetype": "text/x-python",
   "name": "python",
   "nbconvert_exporter": "python",
   "pygments_lexer": "ipython3",
   "version": "3.10.12"
  }
 },
 "nbformat": 4,
 "nbformat_minor": 2
}
