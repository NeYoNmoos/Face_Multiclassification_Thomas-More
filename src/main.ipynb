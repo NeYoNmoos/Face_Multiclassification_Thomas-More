{
 "cells": [
  {
   "cell_type": "markdown",
   "metadata": {},
   "source": [
    "# Face Multiclassifier Project\n",
    "## Thomas More | AI-Frameworks\n",
    "### Matthias Hefel"
   ]
  },
  {
   "cell_type": "markdown",
   "metadata": {},
   "source": [
    "sort cropped faces, by x (left to right), first face is the first label. then save the images into folders with the responding label names\n",
    "and then also a default folder, where you put all of the cropped faces (to do predictions on) \n",
    "\n",
    "face recognition with cv2\n",
    "cv2.face.LBPHFFaceRecognizer_create()\n",
    "\n",
    "find videos of youtube\n",
    "opencv face recognitions\n",
    "\n",
    "facenet (face recognition)\n",
    "mtcnn"
   ]
  },
  {
   "cell_type": "code",
   "execution_count": null,
   "metadata": {},
   "outputs": [],
   "source": []
  }
 ],
 "metadata": {
  "kernelspec": {
   "display_name": "base",
   "language": "python",
   "name": "python3"
  },
  "language_info": {
   "codemirror_mode": {
    "name": "ipython",
    "version": 3
   },
   "file_extension": ".py",
   "mimetype": "text/x-python",
   "name": "python",
   "nbconvert_exporter": "python",
   "pygments_lexer": "ipython3",
   "version": "3.9.20"
  }
 },
 "nbformat": 4,
 "nbformat_minor": 2
}
