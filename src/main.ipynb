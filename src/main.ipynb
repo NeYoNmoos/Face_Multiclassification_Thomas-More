{
 "cells": [
  {
   "cell_type": "markdown",
   "metadata": {},
   "source": [
    "# Face Multiclassification Project\n",
    "## Thomas More | AI-Frameworks\n",
    "### Matthias Hefel"
   ]
  },
  {
   "cell_type": "markdown",
   "metadata": {},
   "source": []
  },
  {
   "cell_type": "code",
   "execution_count": 34,
   "metadata": {},
   "outputs": [],
   "source": [
    "from utilities import process_files_in_folder\n",
    "\n",
    "input_folder = \"../data/test_images/original_images\"  \n",
    "output_folder = \"../data/test_images/cleaned_images\"\n",
    "process_files_in_folder(input_folder, output_folder, size=(640, 480))\n"
   ]
  },
  {
   "cell_type": "code",
   "execution_count": 35,
   "metadata": {},
   "outputs": [],
   "source": [
    "from utilities import load_facenet_model\n",
    "\n",
    "label_map_path = \"../models/label_map.json\"\n",
    "model_path = \"../models/facenet_flow_from_directory2.weights.h5\"\n",
    "model = load_facenet_model(label_map_path, model_path)"
   ]
  },
  {
   "cell_type": "code",
   "execution_count": null,
   "metadata": {},
   "outputs": [
    {
     "ename": "ImportError",
     "evalue": "cannot import name 'process_files_in_folder' from 'utilities' (/home/neyon/thomas_more/ai_frameworks/Face_Multiclassifier_Project/src/utilities/__init__.py)",
     "output_type": "error",
     "traceback": [
      "\u001b[0;31m---------------------------------------------------------------------------\u001b[0m",
      "\u001b[0;31mImportError\u001b[0m                               Traceback (most recent call last)",
      "Cell \u001b[0;32mIn[31], line 1\u001b[0m\n\u001b[0;32m----> 1\u001b[0m \u001b[38;5;28;01mfrom\u001b[39;00m\u001b[38;5;250m \u001b[39m\u001b[38;5;21;01mutilities\u001b[39;00m\u001b[38;5;250m \u001b[39m\u001b[38;5;28;01mimport\u001b[39;00m process_files_in_folder\n\u001b[1;32m      3\u001b[0m input_folder \u001b[38;5;241m=\u001b[39m \u001b[38;5;124m\"\u001b[39m\u001b[38;5;124m../data/test_images/original_images\u001b[39m\u001b[38;5;124m\"\u001b[39m  \n\u001b[1;32m      4\u001b[0m output_folder \u001b[38;5;241m=\u001b[39m \u001b[38;5;124m\"\u001b[39m\u001b[38;5;124m../data/test_images/cleaned_images\u001b[39m\u001b[38;5;124m\"\u001b[39m\n",
      "\u001b[0;31mImportError\u001b[0m: cannot import name 'process_files_in_folder' from 'utilities' (/home/neyon/thomas_more/ai_frameworks/Face_Multiclassifier_Project/src/utilities/__init__.py)"
     ]
    }
   ],
   "source": []
  }
 ],
 "metadata": {
  "kernelspec": {
   "display_name": ".venv",
   "language": "python",
   "name": "python3"
  },
  "language_info": {
   "codemirror_mode": {
    "name": "ipython",
    "version": 3
   },
   "file_extension": ".py",
   "mimetype": "text/x-python",
   "name": "python",
   "nbconvert_exporter": "python",
   "pygments_lexer": "ipython3",
   "version": "3.10.12"
  }
 },
 "nbformat": 4,
 "nbformat_minor": 2
}
