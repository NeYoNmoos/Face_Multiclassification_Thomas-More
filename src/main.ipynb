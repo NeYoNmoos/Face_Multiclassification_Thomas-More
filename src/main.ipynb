{
 "cells": [
  {
   "cell_type": "markdown",
   "metadata": {},
   "source": [
    "# Face Multiclassification Project\n",
    "## Thomas More | AI-Frameworks\n",
    "### Matthias Hefel"
   ]
  },
  {
   "cell_type": "markdown",
   "metadata": {},
   "source": []
  },
  {
   "cell_type": "code",
   "execution_count": 36,
   "metadata": {},
   "outputs": [],
   "source": [
    "from utilities import process_files_in_folder\n",
    "\n",
    "input_folder = \"../test_images/original_images\"  \n",
    "output_folder = \"../test_images/cleaned_images\"\n",
    "process_files_in_folder(input_folder, output_folder, size=(640, 480))\n"
   ]
  },
  {
   "cell_type": "code",
   "execution_count": 35,
   "metadata": {},
   "outputs": [],
   "source": [
    "from utilities import load_facenet_model\n",
    "\n",
    "label_map_path = \"../models/label_map.json\"\n",
    "model_path = \"../models/facenet_flow_from_directory2.weights.h5\"\n",
    "model = load_facenet_model(label_map_path, model_path)"
   ]
  },
  {
   "cell_type": "code",
   "execution_count": null,
   "metadata": {},
   "outputs": [],
   "source": []
  }
 ],
 "metadata": {
  "kernelspec": {
   "display_name": ".venv",
   "language": "python",
   "name": "python3"
  },
  "language_info": {
   "codemirror_mode": {
    "name": "ipython",
    "version": 3
   },
   "file_extension": ".py",
   "mimetype": "text/x-python",
   "name": "python",
   "nbconvert_exporter": "python",
   "pygments_lexer": "ipython3",
   "version": "3.10.12"
  }
 },
 "nbformat": 4,
 "nbformat_minor": 2
}
